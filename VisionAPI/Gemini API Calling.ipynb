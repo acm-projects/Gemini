{
 "cells": [
  {
   "cell_type": "code",
   "execution_count": null,
   "metadata": {},
   "outputs": [],
   "source": [
    "pip install google-cloud-vision"
   ]
  },
  {
   "cell_type": "code",
   "execution_count": 105,
   "metadata": {},
   "outputs": [],
   "source": [
    "import os\n",
    "import io\n",
    "\n",
    "from google.cloud import vision_v1"
   ]
  },
  {
   "cell_type": "code",
   "execution_count": 106,
   "metadata": {},
   "outputs": [],
   "source": [
    "os.environ['GOOGLE_APPLICATION_CREDENTIALS'] = 'ServiceAccountToken.json'"
   ]
  },
  {
   "cell_type": "code",
   "execution_count": 107,
   "metadata": {},
   "outputs": [],
   "source": [
    "client = vision_v1.ImageAnnotatorClient()"
   ]
  },
  {
   "cell_type": "code",
   "execution_count": 108,
   "metadata": {},
   "outputs": [],
   "source": [
    "#### REMOTE IMAGE #####\n",
    "\n",
    "image = vision_v1.Image()\n",
    "image.source.image_uri = 'https://n.nordstrommedia.com/id/sr3/33bc5277-2935-4c23-8d11-560ff131fd02.jpeg?crop=pad&pad_color=FFF&format=jpeg&trim=color&trimcolor=FFF&w=780&h=838'"
   ]
  },
  {
   "cell_type": "code",
   "execution_count": 109,
   "metadata": {},
   "outputs": [],
   "source": [
    "#### LOCAL IMAGE ####\n",
    "\n",
    "with io.open('images/cleats.jpg', 'rb') as image_file:\n",
    "    content = image_file.read()\n",
    "    \n",
    "image = vision.Image(content=content)"
   ]
  },
  {
   "cell_type": "code",
   "execution_count": 110,
   "metadata": {},
   "outputs": [
    {
     "name": "stdout",
     "output_type": "stream",
     "text": [
      "{'label': 'Shoe', 'score': 0.9973593950271606}\n",
      "{'label': 'Footwear', 'score': 0.9934014678001404}\n",
      "{'label': 'Black', 'score': 0.9685574173927307}\n",
      "{'label': 'White', 'score': 0.9654507637023926}\n",
      "{'label': 'Sneakers', 'score': 0.8900207877159119}\n",
      "{'label': 'Walking shoe', 'score': 0.8713961243629456}\n",
      "{'label': 'Skate shoe', 'score': 0.8697693943977356}\n",
      "{'label': 'Athletic shoe', 'score': 0.7560586333274841}\n",
      "{'label': 'Tennis shoe', 'score': 0.7197726368904114}\n",
      "{'label': 'Plimsoll shoe', 'score': 0.7068747282028198}\n"
     ]
    }
   ],
   "source": [
    "#### LABEL DETECTION ####\n",
    "\n",
    "response_label = client.label_detection(image=image)\n",
    "\n",
    "for label in response_label.label_annotations:\n",
    "    print({'label': label.description, 'score': label.score})"
   ]
  },
  {
   "cell_type": "code",
   "execution_count": 111,
   "metadata": {},
   "outputs": [
    {
     "name": "stdout",
     "output_type": "stream",
     "text": [
      "Logos:\n"
     ]
    }
   ],
   "source": [
    "#### LOGO DETECTION ####\n",
    "\n",
    "response = client.logo_detection(image=image)\n",
    "\n",
    "logos = response.logo_annotations\n",
    "print('Logos:')\n",
    "\n",
    "for logo in logos:\n",
    "    print(logo.description)\n",
    "\n",
    "if response.error.message:\n",
    "    raise Exception(\n",
    "        '{}\\nFor more info on error messages, check: '\n",
    "        'https://cloud.google.com/apis/design/errors'.format(\n",
    "            response.error.message))\n"
   ]
  },
  {
   "cell_type": "code",
   "execution_count": 112,
   "metadata": {},
   "outputs": [
    {
     "name": "stdout",
     "output_type": "stream",
     "text": [
      "Texts:\n",
      "\n",
      "\"MADE #NO\n",
      "TO 944\n",
      "PREDATOR\n",
      "\"\n",
      "bounds: (656,1684),(1443,1684),(1443,2805),(656,2805)\n",
      "\n",
      "\"MADE\"\n",
      "bounds: (1306,1684),(1368,1687),(1366,1714),(1305,1711)\n",
      "\n",
      "\"#NO\"\n",
      "bounds: (1374,1687),(1443,1691),(1441,1719),(1372,1715)\n",
      "\n",
      "\"TO\"\n",
      "bounds: (1280,1731),(1324,1735),(1321,1762),(1278,1758)\n",
      "\n",
      "\"944\"\n",
      "bounds: (1327,1735),(1402,1742),(1399,1769),(1325,1762)\n",
      "\n",
      "\"PREDATOR\"\n",
      "bounds: (668,2659),(1089,2722),(1077,2805),(656,2742)\n"
     ]
    }
   ],
   "source": [
    "response = client.text_detection(image=image)\n",
    "texts = response.text_annotations\n",
    "print('Texts:')\n",
    "\n",
    "for text in texts:\n",
    "    print('\\n\"{}\"'.format(text.description))\n",
    "\n",
    "    vertices = (['({},{})'.format(vertex.x, vertex.y)\n",
    "                for vertex in text.bounding_poly.vertices])\n",
    "\n",
    "    print('bounds: {}'.format(','.join(vertices)))\n",
    "\n",
    "if response.error.message:\n",
    "    raise Exception(\n",
    "        '{}\\nFor more info on error messages, check: '\n",
    "        'https://cloud.google.com/apis/design/errors'.format(\n",
    "            response.error.message))"
   ]
  }
 ],
 "metadata": {
  "kernelspec": {
   "display_name": "Python 3",
   "language": "python",
   "name": "python3"
  },
  "language_info": {
   "codemirror_mode": {
    "name": "ipython",
    "version": 3
   },
   "file_extension": ".py",
   "mimetype": "text/x-python",
   "name": "python",
   "nbconvert_exporter": "python",
   "pygments_lexer": "ipython3",
   "version": "3.8.3"
  }
 },
 "nbformat": 4,
 "nbformat_minor": 4
}
