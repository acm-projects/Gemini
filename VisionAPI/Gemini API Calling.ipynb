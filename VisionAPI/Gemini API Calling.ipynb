{
 "cells": [
  {
   "cell_type": "code",
   "execution_count": 2,
   "metadata": {
    "scrolled": true
   },
   "outputs": [
    {
     "name": "stdout",
     "output_type": "stream",
     "text": [
      "Requirement already satisfied: google-cloud-vision in c:\\users\\areeb\\miniconda3\\lib\\site-packages (2.0.0)\n",
      "Requirement already satisfied: libcst>=0.2.5 in c:\\users\\areeb\\miniconda3\\lib\\site-packages (from google-cloud-vision) (0.3.13)\n",
      "Requirement already satisfied: google-api-core[grpc]<2.0.0dev,>=1.22.2 in c:\\users\\areeb\\miniconda3\\lib\\site-packages (from google-cloud-vision) (1.23.0)\n",
      "Requirement already satisfied: proto-plus>=1.4.0 in c:\\users\\areeb\\miniconda3\\lib\\site-packages (from google-cloud-vision) (1.11.0)\n",
      "Requirement already satisfied: typing-extensions>=3.7.4.2 in c:\\users\\areeb\\miniconda3\\lib\\site-packages (from libcst>=0.2.5->google-cloud-vision) (3.7.4.3)\n",
      "Requirement already satisfied: pyyaml>=5.2 in c:\\users\\areeb\\miniconda3\\lib\\site-packages (from libcst>=0.2.5->google-cloud-vision) (5.3.1)\n",
      "Requirement already satisfied: typing-inspect>=0.4.0 in c:\\users\\areeb\\miniconda3\\lib\\site-packages (from libcst>=0.2.5->google-cloud-vision) (0.6.0)\n",
      "Requirement already satisfied: protobuf>=3.12.0 in c:\\users\\areeb\\miniconda3\\lib\\site-packages (from google-api-core[grpc]<2.0.0dev,>=1.22.2->google-cloud-vision) (3.13.0)\n",
      "Requirement already satisfied: six>=1.13.0 in c:\\users\\areeb\\miniconda3\\lib\\site-packages (from google-api-core[grpc]<2.0.0dev,>=1.22.2->google-cloud-vision) (1.14.0)\n",
      "Requirement already satisfied: requests<3.0.0dev,>=2.18.0 in c:\\users\\areeb\\miniconda3\\lib\\site-packages (from google-api-core[grpc]<2.0.0dev,>=1.22.2->google-cloud-vision) (2.23.0)\n",
      "Requirement already satisfied: google-auth<2.0dev,>=1.21.1 in c:\\users\\areeb\\miniconda3\\lib\\site-packages (from google-api-core[grpc]<2.0.0dev,>=1.22.2->google-cloud-vision) (1.23.0)\n",
      "Requirement already satisfied: setuptools>=34.0.0 in c:\\users\\areeb\\miniconda3\\lib\\site-packages (from google-api-core[grpc]<2.0.0dev,>=1.22.2->google-cloud-vision) (46.4.0.post20200518)\n",
      "Requirement already satisfied: googleapis-common-protos<2.0dev,>=1.6.0 in c:\\users\\areeb\\miniconda3\\lib\\site-packages (from google-api-core[grpc]<2.0.0dev,>=1.22.2->google-cloud-vision) (1.52.0)\n",
      "Requirement already satisfied: pytz in c:\\users\\areeb\\miniconda3\\lib\\site-packages (from google-api-core[grpc]<2.0.0dev,>=1.22.2->google-cloud-vision) (2020.4)\n",
      "Requirement already satisfied: grpcio<2.0dev,>=1.29.0; extra == \"grpc\" in c:\\users\\areeb\\miniconda3\\lib\\site-packages (from google-api-core[grpc]<2.0.0dev,>=1.22.2->google-cloud-vision) (1.33.2)\n",
      "Requirement already satisfied: mypy-extensions>=0.3.0 in c:\\users\\areeb\\miniconda3\\lib\\site-packages (from typing-inspect>=0.4.0->libcst>=0.2.5->google-cloud-vision) (0.4.3)\n",
      "Requirement already satisfied: urllib3!=1.25.0,!=1.25.1,<1.26,>=1.21.1 in c:\\users\\areeb\\miniconda3\\lib\\site-packages (from requests<3.0.0dev,>=2.18.0->google-api-core[grpc]<2.0.0dev,>=1.22.2->google-cloud-vision) (1.25.8)\n",
      "Requirement already satisfied: certifi>=2017.4.17 in c:\\users\\areeb\\miniconda3\\lib\\site-packages (from requests<3.0.0dev,>=2.18.0->google-api-core[grpc]<2.0.0dev,>=1.22.2->google-cloud-vision) (2020.6.20)\n",
      "Requirement already satisfied: chardet<4,>=3.0.2 in c:\\users\\areeb\\miniconda3\\lib\\site-packages (from requests<3.0.0dev,>=2.18.0->google-api-core[grpc]<2.0.0dev,>=1.22.2->google-cloud-vision) (3.0.4)\n",
      "Requirement already satisfied: idna<3,>=2.5 in c:\\users\\areeb\\miniconda3\\lib\\site-packages (from requests<3.0.0dev,>=2.18.0->google-api-core[grpc]<2.0.0dev,>=1.22.2->google-cloud-vision) (2.9)\n",
      "Requirement already satisfied: cachetools<5.0,>=2.0.0 in c:\\users\\areeb\\miniconda3\\lib\\site-packages (from google-auth<2.0dev,>=1.21.1->google-api-core[grpc]<2.0.0dev,>=1.22.2->google-cloud-vision) (4.1.1)\n",
      "Requirement already satisfied: pyasn1-modules>=0.2.1 in c:\\users\\areeb\\miniconda3\\lib\\site-packages (from google-auth<2.0dev,>=1.21.1->google-api-core[grpc]<2.0.0dev,>=1.22.2->google-cloud-vision) (0.2.8)\n",
      "Requirement already satisfied: rsa<5,>=3.1.4; python_version >= \"3.5\" in c:\\users\\areeb\\miniconda3\\lib\\site-packages (from google-auth<2.0dev,>=1.21.1->google-api-core[grpc]<2.0.0dev,>=1.22.2->google-cloud-vision) (4.6)\n",
      "Requirement already satisfied: pyasn1<0.5.0,>=0.4.6 in c:\\users\\areeb\\miniconda3\\lib\\site-packages (from pyasn1-modules>=0.2.1->google-auth<2.0dev,>=1.21.1->google-api-core[grpc]<2.0.0dev,>=1.22.2->google-cloud-vision) (0.4.8)\n",
      "Note: you may need to restart the kernel to use updated packages.\n"
     ]
    }
   ],
   "source": [
    "pip install google-cloud-vision"
   ]
  },
  {
   "cell_type": "code",
   "execution_count": 94,
   "metadata": {},
   "outputs": [],
   "source": [
    "import os\n",
    "import io\n",
    "\n",
    "from google.cloud import vision_v1"
   ]
  },
  {
   "cell_type": "code",
   "execution_count": 95,
   "metadata": {},
   "outputs": [],
   "source": [
    "os.environ['GOOGLE_APPLICATION_CREDENTIALS'] = 'ServiceAccountToken.json'"
   ]
  },
  {
   "cell_type": "code",
   "execution_count": 96,
   "metadata": {},
   "outputs": [],
   "source": [
    "client = vision_v1.ImageAnnotatorClient()"
   ]
  },
  {
   "cell_type": "code",
   "execution_count": 97,
   "metadata": {},
   "outputs": [],
   "source": [
    "#### REMOTE IMAGE #####\n",
    "\n",
    "image = vision_v1.Image()\n",
    "image.source.image_uri = 'https://n.nordstrommedia.com/id/sr3/33bc5277-2935-4c23-8d11-560ff131fd02.jpeg?crop=pad&pad_color=FFF&format=jpeg&trim=color&trimcolor=FFF&w=780&h=838'"
   ]
  },
  {
   "cell_type": "code",
   "execution_count": 102,
   "metadata": {},
   "outputs": [],
   "source": [
    "#### LOCAL IMAGE ####\n",
    "\n",
    "with io.open('images/cleats.jpg', 'rb') as image_file:\n",
    "    content = image_file.read()\n",
    "    \n",
    "image = vision.Image(content=content)"
   ]
  },
  {
   "cell_type": "code",
   "execution_count": 103,
   "metadata": {},
   "outputs": [
    {
     "name": "stdout",
     "output_type": "stream",
     "text": [
      "{'label': 'Shoe', 'score': 0.9973593950271606}\n",
      "{'label': 'Footwear', 'score': 0.9934014678001404}\n",
      "{'label': 'Black', 'score': 0.9685574173927307}\n",
      "{'label': 'White', 'score': 0.9654507637023926}\n",
      "{'label': 'Sneakers', 'score': 0.8900207877159119}\n",
      "{'label': 'Walking shoe', 'score': 0.8713961243629456}\n",
      "{'label': 'Skate shoe', 'score': 0.8697693943977356}\n",
      "{'label': 'Athletic shoe', 'score': 0.7560586333274841}\n",
      "{'label': 'Tennis shoe', 'score': 0.7197726368904114}\n",
      "{'label': 'Plimsoll shoe', 'score': 0.7068747282028198}\n"
     ]
    }
   ],
   "source": [
    "#### LABEL DETECTION ####\n",
    "\n",
    "response_label = client.label_detection(image=image)\n",
    "\n",
    "for label in response_label.label_annotations:\n",
    "    print({'label': label.description, 'score': label.score})"
   ]
  },
  {
   "cell_type": "code",
   "execution_count": 100,
   "metadata": {},
   "outputs": [
    {
     "name": "stdout",
     "output_type": "stream",
     "text": [
      "Logos:\n"
     ]
    }
   ],
   "source": [
    "#### LOGO DETECTION ####\n",
    "\n",
    "response = client.logo_detection(image=image)\n",
    "\n",
    "logos = response.logo_annotations\n",
    "print('Logos:')\n",
    "\n",
    "for logo in logos:\n",
    "    print(logo.description)\n",
    "\n",
    "if response.error.message:\n",
    "    raise Exception(\n",
    "        '{}\\nFor more info on error messages, check: '\n",
    "        'https://cloud.google.com/apis/design/errors'.format(\n",
    "            response.error.message))\n"
   ]
  },
  {
   "cell_type": "code",
   "execution_count": 101,
   "metadata": {},
   "outputs": [
    {
     "name": "stdout",
     "output_type": "stream",
     "text": [
      "Texts:\n",
      "\n",
      "\"MADE #NO\n",
      "TO 944\n",
      "PREDATOR\n",
      "\"\n",
      "bounds: (656,1684),(1443,1684),(1443,2805),(656,2805)\n",
      "\n",
      "\"MADE\"\n",
      "bounds: (1306,1684),(1368,1687),(1366,1714),(1305,1711)\n",
      "\n",
      "\"#NO\"\n",
      "bounds: (1374,1687),(1443,1691),(1441,1719),(1372,1715)\n",
      "\n",
      "\"TO\"\n",
      "bounds: (1280,1731),(1324,1735),(1321,1762),(1278,1758)\n",
      "\n",
      "\"944\"\n",
      "bounds: (1327,1735),(1402,1742),(1399,1769),(1325,1762)\n",
      "\n",
      "\"PREDATOR\"\n",
      "bounds: (668,2659),(1089,2722),(1077,2805),(656,2742)\n"
     ]
    }
   ],
   "source": [
    "response = client.text_detection(image=image)\n",
    "texts = response.text_annotations\n",
    "print('Texts:')\n",
    "\n",
    "for text in texts:\n",
    "    print('\\n\"{}\"'.format(text.description))\n",
    "\n",
    "    vertices = (['({},{})'.format(vertex.x, vertex.y)\n",
    "                for vertex in text.bounding_poly.vertices])\n",
    "\n",
    "    print('bounds: {}'.format(','.join(vertices)))\n",
    "\n",
    "if response.error.message:\n",
    "    raise Exception(\n",
    "        '{}\\nFor more info on error messages, check: '\n",
    "        'https://cloud.google.com/apis/design/errors'.format(\n",
    "            response.error.message))"
   ]
  },
  {
   "cell_type": "code",
   "execution_count": null,
   "metadata": {},
   "outputs": [],
   "source": []
  }
 ],
 "metadata": {
  "kernelspec": {
   "display_name": "Python 3",
   "language": "python",
   "name": "python3"
  },
  "language_info": {
   "codemirror_mode": {
    "name": "ipython",
    "version": 3
   },
   "file_extension": ".py",
   "mimetype": "text/x-python",
   "name": "python",
   "nbconvert_exporter": "python",
   "pygments_lexer": "ipython3",
   "version": "3.8.3"
  }
 },
 "nbformat": 4,
 "nbformat_minor": 4
}
